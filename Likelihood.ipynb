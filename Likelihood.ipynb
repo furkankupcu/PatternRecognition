{
 "cells": [
  {
   "cell_type": "code",
   "execution_count": 53,
   "metadata": {},
   "outputs": [],
   "source": [
    "import numpy as np\n",
    "from scipy import linalg"
   ]
  },
  {
   "cell_type": "code",
   "execution_count": 105,
   "metadata": {},
   "outputs": [],
   "source": [
    "teamFx = np.array([1,1,2,1,2])\n",
    "teamFy = np.array([10,9,10,11,10])\n",
    "teamFz = np.array([8,8,8,8,8])\n",
    "teamFt = np.array([4,5,4,4,5])\n",
    "\n",
    "teamUx = np.array([10,10,11,11,12])\n",
    "teamUy = np.array([7,6,6,6,5])\n",
    "teamUz = np.array([4,4,4,3,3])\n",
    "teamUt = np.array([4,4,5,4,4])\n",
    "\n",
    "teamRx = np.array([1,1,1,1,1])\n",
    "teamRy = np.array([8,8,9,9,9])\n",
    "teamRz = np.array([6,7,6,6,6])\n",
    "teamRt = np.array([5,4,4,4,4])"
   ]
  },
  {
   "cell_type": "markdown",
   "metadata": {},
   "source": [
    "## CLASS F"
   ]
  },
  {
   "cell_type": "code",
   "execution_count": 106,
   "metadata": {},
   "outputs": [],
   "source": [
    "meanFX = np.mean(teamFx)\n",
    "meanFY = np.mean(teamFy)\n",
    "meanFZ = np.mean(teamFz)\n",
    "meanFT = np.mean(teamFt)"
   ]
  },
  {
   "cell_type": "code",
   "execution_count": 107,
   "metadata": {},
   "outputs": [
    {
     "data": {
      "text/plain": [
       "array([[ 1.4],\n",
       "       [10. ],\n",
       "       [ 8. ],\n",
       "       [ 4.4]])"
      ]
     },
     "execution_count": 107,
     "metadata": {},
     "output_type": "execute_result"
    }
   ],
   "source": [
    "meanF = np.array([[meanFX],[meanFY],[meanFZ],[meanFT]])\n",
    "meanF"
   ]
  },
  {
   "cell_type": "code",
   "execution_count": 101,
   "metadata": {},
   "outputs": [
    {
     "data": {
      "text/plain": [
       "array([[ 1,  1,  2,  1,  2],\n",
       "       [10,  9, 10, 11, 10],\n",
       "       [ 8,  8,  8,  8,  8],\n",
       "       [ 4,  5,  4,  4,  5]])"
      ]
     },
     "execution_count": 101,
     "metadata": {},
     "output_type": "execute_result"
    }
   ],
   "source": [
    "F = np.array([teamFx,teamFy,teamFz,teamFt])\n",
    "F"
   ]
  },
  {
   "cell_type": "code",
   "execution_count": 102,
   "metadata": {},
   "outputs": [
    {
     "data": {
      "text/plain": [
       "array([[ 0.3 ,  0.  ,  0.  ,  0.05],\n",
       "       [ 0.  ,  0.5 ,  0.  , -0.25],\n",
       "       [ 0.  ,  0.  ,  0.  ,  0.  ],\n",
       "       [ 0.05, -0.25,  0.  ,  0.3 ]])"
      ]
     },
     "execution_count": 102,
     "metadata": {},
     "output_type": "execute_result"
    }
   ],
   "source": [
    "covF = np.cov(F)\n",
    "covF"
   ]
  },
  {
   "cell_type": "code",
   "execution_count": 103,
   "metadata": {},
   "outputs": [],
   "source": [
    "for i in range(len(covF)):\n",
    "    for j in range(len(covF)):\n",
    "        if covF[i][i] == 0:\n",
    "            covF[i][i] = 1"
   ]
  },
  {
   "cell_type": "code",
   "execution_count": 104,
   "metadata": {},
   "outputs": [
    {
     "data": {
      "text/plain": [
       "array([[ 0.3 ,  0.  ,  0.  ,  0.05],\n",
       "       [ 0.  ,  0.5 ,  0.  , -0.25],\n",
       "       [ 0.  ,  0.  ,  1.  ,  0.  ],\n",
       "       [ 0.05, -0.25,  0.  ,  0.3 ]])"
      ]
     },
     "execution_count": 104,
     "metadata": {},
     "output_type": "execute_result"
    }
   ],
   "source": [
    "covF"
   ]
  },
  {
   "cell_type": "code",
   "execution_count": 61,
   "metadata": {},
   "outputs": [
    {
     "data": {
      "text/plain": [
       "0.0880104049079373"
      ]
     },
     "execution_count": 61,
     "metadata": {},
     "output_type": "execute_result"
    }
   ],
   "source": [
    "newx,newy,newz,newt = 1,10,8,4\n",
    "pi = 6.28**2   #2 = n/2  n=sınıf sayısı,probleme göre değiştir n=4\n",
    "s1 = ((linalg.det(covF))**0.5)*pi\n",
    "newM = np.array([[newx-meanFX],[newy-meanFY],[newz-meanFZ],[newt-meanFT]])\n",
    "tM = np.transpose(newM)\n",
    "v1= np.linalg.inv(covF)\n",
    "c1 = np.dot(tM,v1)\n",
    "c2 = np.dot(c1,newM)\n",
    "c3 = -0.5 * c2[0][0]\n",
    "s2 = np.exp(c3)\n",
    "sonucF =  (1/s1) * s2 \n",
    "sonucF"
   ]
  },
  {
   "cell_type": "markdown",
   "metadata": {},
   "source": [
    "## Class U"
   ]
  },
  {
   "cell_type": "code",
   "execution_count": 108,
   "metadata": {},
   "outputs": [
    {
     "data": {
      "text/plain": [
       "10.8"
      ]
     },
     "execution_count": 108,
     "metadata": {},
     "output_type": "execute_result"
    }
   ],
   "source": [
    "meanUX = np.mean(teamUx)\n",
    "meanUX"
   ]
  },
  {
   "cell_type": "code",
   "execution_count": 109,
   "metadata": {},
   "outputs": [
    {
     "data": {
      "text/plain": [
       "6.0"
      ]
     },
     "execution_count": 109,
     "metadata": {},
     "output_type": "execute_result"
    }
   ],
   "source": [
    "meanUY = np.mean(teamUy)\n",
    "meanUY"
   ]
  },
  {
   "cell_type": "code",
   "execution_count": 110,
   "metadata": {},
   "outputs": [
    {
     "data": {
      "text/plain": [
       "3.6"
      ]
     },
     "execution_count": 110,
     "metadata": {},
     "output_type": "execute_result"
    }
   ],
   "source": [
    "meanUZ = np.mean(teamUz)\n",
    "meanUZ"
   ]
  },
  {
   "cell_type": "code",
   "execution_count": 111,
   "metadata": {},
   "outputs": [
    {
     "data": {
      "text/plain": [
       "4.2"
      ]
     },
     "execution_count": 111,
     "metadata": {},
     "output_type": "execute_result"
    }
   ],
   "source": [
    "meanUT = np.mean(teamUt)\n",
    "meanUT"
   ]
  },
  {
   "cell_type": "code",
   "execution_count": 112,
   "metadata": {},
   "outputs": [
    {
     "data": {
      "text/plain": [
       "array([[10.8],\n",
       "       [ 6. ],\n",
       "       [ 3.6],\n",
       "       [ 4.2]])"
      ]
     },
     "execution_count": 112,
     "metadata": {},
     "output_type": "execute_result"
    }
   ],
   "source": [
    "meanU = np.array([[meanUX],[meanUY],[meanUZ],[meanUT]])\n",
    "meanU"
   ]
  },
  {
   "cell_type": "code",
   "execution_count": 113,
   "metadata": {},
   "outputs": [],
   "source": [
    "U= np.array([teamUx,teamUy,teamUz,teamUt])"
   ]
  },
  {
   "cell_type": "code",
   "execution_count": 114,
   "metadata": {},
   "outputs": [
    {
     "data": {
      "text/plain": [
       "array([[ 0.7 , -0.5 , -0.35,  0.05],\n",
       "       [-0.5 ,  0.5 ,  0.25,  0.  ],\n",
       "       [-0.35,  0.25,  0.3 ,  0.1 ],\n",
       "       [ 0.05,  0.  ,  0.1 ,  0.2 ]])"
      ]
     },
     "execution_count": 114,
     "metadata": {},
     "output_type": "execute_result"
    }
   ],
   "source": [
    "covU = np.cov(U)\n",
    "covU"
   ]
  },
  {
   "cell_type": "code",
   "execution_count": 115,
   "metadata": {},
   "outputs": [
    {
     "data": {
      "text/plain": [
       "2.5721646796130074e-55"
      ]
     },
     "execution_count": 115,
     "metadata": {},
     "output_type": "execute_result"
    }
   ],
   "source": [
    "newx,newy,newz,newt = 1,10,8,4\n",
    "pi = 6.28**2   #1 = n/2  n=sınıf sayısı,probleme göre değiştir\n",
    "s1 = ((linalg.det(covU))**0.5)*pi\n",
    "newM = np.array([[newx-meanUX],[newy-meanUY],[newz-meanUZ],[newt-meanUT]])\n",
    "tM = np.transpose(newM)\n",
    "v1= np.linalg.inv(covU)\n",
    "c1 = np.dot(tM,v1)\n",
    "c2 = np.dot(c1,newM)\n",
    "c3 = -0.5 * c2[0][0]\n",
    "s2 = np.exp(c3)\n",
    "sonucB =  (1/s1) * s2 \n",
    "sonucB"
   ]
  },
  {
   "cell_type": "markdown",
   "metadata": {},
   "source": [
    "## Class R"
   ]
  },
  {
   "cell_type": "code",
   "execution_count": 121,
   "metadata": {},
   "outputs": [
    {
     "data": {
      "text/plain": [
       "1.0"
      ]
     },
     "execution_count": 121,
     "metadata": {},
     "output_type": "execute_result"
    }
   ],
   "source": [
    "meanRX = np.mean(teamRx)\n",
    "meanRX"
   ]
  },
  {
   "cell_type": "code",
   "execution_count": 122,
   "metadata": {},
   "outputs": [
    {
     "data": {
      "text/plain": [
       "8.6"
      ]
     },
     "execution_count": 122,
     "metadata": {},
     "output_type": "execute_result"
    }
   ],
   "source": [
    "meanRY = np.mean(teamRy)\n",
    "meanRY"
   ]
  },
  {
   "cell_type": "code",
   "execution_count": 123,
   "metadata": {},
   "outputs": [
    {
     "data": {
      "text/plain": [
       "6.2"
      ]
     },
     "execution_count": 123,
     "metadata": {},
     "output_type": "execute_result"
    }
   ],
   "source": [
    "meanRZ = np.mean(teamRz)\n",
    "meanRZ"
   ]
  },
  {
   "cell_type": "code",
   "execution_count": 124,
   "metadata": {},
   "outputs": [
    {
     "data": {
      "text/plain": [
       "5.0"
      ]
     },
     "execution_count": 124,
     "metadata": {},
     "output_type": "execute_result"
    }
   ],
   "source": [
    "meanRT = np.mean(teamTt)\n",
    "meanRT"
   ]
  },
  {
   "cell_type": "code",
   "execution_count": 125,
   "metadata": {},
   "outputs": [
    {
     "data": {
      "text/plain": [
       "array([[1. ],\n",
       "       [8.6],\n",
       "       [6.2],\n",
       "       [5. ]])"
      ]
     },
     "execution_count": 125,
     "metadata": {},
     "output_type": "execute_result"
    }
   ],
   "source": [
    "meanR = np.array([[meanRX],[meanRY],[meanRZ],[meanRT]])\n",
    "meanR"
   ]
  },
  {
   "cell_type": "code",
   "execution_count": 126,
   "metadata": {},
   "outputs": [
    {
     "data": {
      "text/plain": [
       "array([[1, 1, 1, 1, 1],\n",
       "       [8, 8, 9, 9, 9],\n",
       "       [6, 7, 6, 6, 6],\n",
       "       [5, 4, 4, 4, 4]])"
      ]
     },
     "execution_count": 126,
     "metadata": {},
     "output_type": "execute_result"
    }
   ],
   "source": [
    "R = np.array([teamRx,teamRy,teamRz,teamRt])\n",
    "R"
   ]
  },
  {
   "cell_type": "code",
   "execution_count": 127,
   "metadata": {},
   "outputs": [
    {
     "data": {
      "text/plain": [
       "array([[ 0.  ,  0.  ,  0.  ,  0.  ],\n",
       "       [ 0.  ,  0.3 , -0.15, -0.15],\n",
       "       [ 0.  , -0.15,  0.2 , -0.05],\n",
       "       [ 0.  , -0.15, -0.05,  0.2 ]])"
      ]
     },
     "execution_count": 127,
     "metadata": {},
     "output_type": "execute_result"
    }
   ],
   "source": [
    "covR = np.cov(R)\n",
    "covR"
   ]
  },
  {
   "cell_type": "code",
   "execution_count": 77,
   "metadata": {},
   "outputs": [],
   "source": [
    "for i in range(len(covR)):\n",
    "    for j in range(len(covR)):\n",
    "        if covR[i][i] == 0:\n",
    "            covR[i][i] = 1"
   ]
  },
  {
   "cell_type": "code",
   "execution_count": 78,
   "metadata": {},
   "outputs": [
    {
     "data": {
      "text/plain": [
       "0.0"
      ]
     },
     "execution_count": 78,
     "metadata": {},
     "output_type": "execute_result"
    }
   ],
   "source": [
    "newx,newy,newz,newt = 1,10,8,4\n",
    "pi = 6.28**2   #2 = n/2  n=sınıf sayısı,probleme göre değiştir n=4\n",
    "s1 = ((linalg.det(covR))**0.5)*pi\n",
    "newM = np.array([[newx-meanRX],[newy-meanRY],[newz-meanRZ],[newt-meanRT]])\n",
    "tM = np.transpose(newM)\n",
    "v1= np.linalg.inv(covR)\n",
    "c1 = np.dot(tM,v1)\n",
    "c2 = np.dot(c1,newM)\n",
    "c3 = -0.5 * c2[0][0]\n",
    "s2 = np.exp(c3)\n",
    "sonucF =  (1/s1) * s2 \n",
    "sonucF"
   ]
  },
  {
   "cell_type": "markdown",
   "metadata": {},
   "source": [
    "## Class K"
   ]
  },
  {
   "cell_type": "code",
   "execution_count": 79,
   "metadata": {},
   "outputs": [],
   "source": [
    "meanKX = np.mean(teamKx)\n",
    "meanKY = np.mean(teamKy)\n",
    "meanKZ = np.mean(teamKz)\n",
    "meanKT = np.mean(teamKt)"
   ]
  },
  {
   "cell_type": "code",
   "execution_count": 80,
   "metadata": {},
   "outputs": [
    {
     "data": {
      "text/plain": [
       "array([[5.2],\n",
       "       [8.4],\n",
       "       [6.4],\n",
       "       [4. ]])"
      ]
     },
     "execution_count": 80,
     "metadata": {},
     "output_type": "execute_result"
    }
   ],
   "source": [
    "meanK = np.array([[meanKX],[meanKY],[meanKZ],[meanKT]])\n",
    "meanK"
   ]
  },
  {
   "cell_type": "code",
   "execution_count": 81,
   "metadata": {},
   "outputs": [
    {
     "data": {
      "text/plain": [
       "array([[5, 5, 5, 6, 5],\n",
       "       [8, 9, 9, 8, 8],\n",
       "       [7, 6, 6, 6, 7],\n",
       "       [4, 4, 4, 4, 4]])"
      ]
     },
     "execution_count": 81,
     "metadata": {},
     "output_type": "execute_result"
    }
   ],
   "source": [
    "K = np.array([teamKx,teamKy,teamKz,teamKt])\n",
    "K"
   ]
  },
  {
   "cell_type": "code",
   "execution_count": 82,
   "metadata": {},
   "outputs": [
    {
     "data": {
      "text/plain": [
       "array([[ 0.2, -0.1, -0.1,  0. ],\n",
       "       [-0.1,  0.3, -0.2,  0. ],\n",
       "       [-0.1, -0.2,  0.3,  0. ],\n",
       "       [ 0. ,  0. ,  0. ,  0. ]])"
      ]
     },
     "execution_count": 82,
     "metadata": {},
     "output_type": "execute_result"
    }
   ],
   "source": [
    "covK = np.cov(K)\n",
    "covK"
   ]
  },
  {
   "cell_type": "code",
   "execution_count": 83,
   "metadata": {},
   "outputs": [],
   "source": [
    "for i in range(len(covK)):\n",
    "    for j in range(len(covK)):\n",
    "        if covK[i][i] == 0:\n",
    "            covK[i][i] = 1"
   ]
  },
  {
   "cell_type": "code",
   "execution_count": 84,
   "metadata": {},
   "outputs": [
    {
     "data": {
      "text/plain": [
       "0.0"
      ]
     },
     "execution_count": 84,
     "metadata": {},
     "output_type": "execute_result"
    }
   ],
   "source": [
    "newx,newy,newz,newt = 1,10,8,4\n",
    "pi = 6.28**2   #2 = n/2  n=sınıf sayısı,probleme göre değiştir n=4\n",
    "s1 = ((linalg.det(covK))**0.5)*pi\n",
    "newM = np.array([[newx-meanKX],[newy-meanKY],[newz-meanKZ],[newt-meanKT]])\n",
    "tM = np.transpose(newM)\n",
    "v1= np.linalg.inv(covK)\n",
    "c1 = np.dot(tM,v1)\n",
    "c2 = np.dot(c1,newM)\n",
    "c3 = -0.5 * c2[0][0]\n",
    "s2 = np.exp(c3)\n",
    "sonucK =  (1/s1) * s2 \n",
    "sonucK"
   ]
  },
  {
   "cell_type": "markdown",
   "metadata": {},
   "source": [
    "## Class 9"
   ]
  },
  {
   "cell_type": "code",
   "execution_count": 85,
   "metadata": {},
   "outputs": [],
   "source": [
    "meanDX = np.mean(teamDx)\n",
    "meanDY = np.mean(teamDy)\n",
    "meanDZ = np.mean(teamDz)\n",
    "meanDT = np.mean(teamDt)"
   ]
  },
  {
   "cell_type": "code",
   "execution_count": 86,
   "metadata": {},
   "outputs": [
    {
     "data": {
      "text/plain": [
       "array([[2. ],\n",
       "       [5.6],\n",
       "       [2. ],\n",
       "       [9. ]])"
      ]
     },
     "execution_count": 86,
     "metadata": {},
     "output_type": "execute_result"
    }
   ],
   "source": [
    "meanD = np.array([[meanDX],[meanDY],[meanDZ],[meanDT]])\n",
    "meanD"
   ]
  },
  {
   "cell_type": "code",
   "execution_count": 87,
   "metadata": {},
   "outputs": [
    {
     "data": {
      "text/plain": [
       "array([[1, 2, 2, 3, 2],\n",
       "       [5, 5, 6, 6, 6],\n",
       "       [2, 2, 2, 2, 2],\n",
       "       [9, 9, 9, 9, 9]])"
      ]
     },
     "execution_count": 87,
     "metadata": {},
     "output_type": "execute_result"
    }
   ],
   "source": [
    "D = np.array([teamDx,teamDy,teamDz,teamDt])\n",
    "D"
   ]
  },
  {
   "cell_type": "code",
   "execution_count": 88,
   "metadata": {},
   "outputs": [
    {
     "data": {
      "text/plain": [
       "array([[0.5 , 0.25, 0.  , 0.  ],\n",
       "       [0.25, 0.3 , 0.  , 0.  ],\n",
       "       [0.  , 0.  , 0.  , 0.  ],\n",
       "       [0.  , 0.  , 0.  , 0.  ]])"
      ]
     },
     "execution_count": 88,
     "metadata": {},
     "output_type": "execute_result"
    }
   ],
   "source": [
    "covD = np.cov(D)\n",
    "covD"
   ]
  },
  {
   "cell_type": "code",
   "execution_count": 89,
   "metadata": {},
   "outputs": [],
   "source": [
    "for i in range(len(covD)):\n",
    "    for j in range(len(covD)):\n",
    "        if covD[i][i] == 0:\n",
    "            covD[i][i] = 1"
   ]
  },
  {
   "cell_type": "code",
   "execution_count": 90,
   "metadata": {},
   "outputs": [
    {
     "data": {
      "text/plain": [
       "2.885353626372774e-45"
      ]
     },
     "execution_count": 90,
     "metadata": {},
     "output_type": "execute_result"
    }
   ],
   "source": [
    "newx,newy,newz,newt = 1,10,8,4\n",
    "pi = 6.28**2   #2 = n/2  n=sınıf sayısı,probleme göre değiştir n=4\n",
    "s1 = ((linalg.det(covD))**0.5)*pi\n",
    "newM = np.array([[newx-meanDX],[newy-meanDY],[newz-meanDZ],[newt-meanDT]])\n",
    "tM = np.transpose(newM)\n",
    "v1= np.linalg.inv(covD)\n",
    "c1 = np.dot(tM,v1)\n",
    "c2 = np.dot(c1,newM)\n",
    "c3 = -0.5 * c2[0][0]\n",
    "s2 = np.exp(c3)\n",
    "sonucD =  (1/s1) * s2 \n",
    "sonucD"
   ]
  },
  {
   "cell_type": "markdown",
   "metadata": {},
   "source": [
    "## Class 4"
   ]
  },
  {
   "cell_type": "code",
   "execution_count": 91,
   "metadata": {},
   "outputs": [],
   "source": [
    "meanTX = np.mean(teamTx)\n",
    "meanTY = np.mean(teamTy)\n",
    "meanTZ = np.mean(teamTz)\n",
    "meanTT = np.mean(teamTt)"
   ]
  },
  {
   "cell_type": "code",
   "execution_count": 92,
   "metadata": {},
   "outputs": [
    {
     "data": {
      "text/plain": [
       "array([[ 2. ],\n",
       "       [10. ],\n",
       "       [ 2.8],\n",
       "       [ 5. ]])"
      ]
     },
     "execution_count": 92,
     "metadata": {},
     "output_type": "execute_result"
    }
   ],
   "source": [
    "meanT = np.array([[meanTX],[meanTY],[meanTZ],[meanTT]])\n",
    "meanT"
   ]
  },
  {
   "cell_type": "code",
   "execution_count": 93,
   "metadata": {},
   "outputs": [
    {
     "data": {
      "text/plain": [
       "array([[ 1,  2,  2,  3,  2],\n",
       "       [10, 10, 10, 10, 10],\n",
       "       [ 3,  2,  3,  3,  3],\n",
       "       [ 5,  5,  5,  5,  5]])"
      ]
     },
     "execution_count": 93,
     "metadata": {},
     "output_type": "execute_result"
    }
   ],
   "source": [
    "T = np.array([teamTx,teamTy,teamTz,teamTt])\n",
    "T"
   ]
  },
  {
   "cell_type": "code",
   "execution_count": 94,
   "metadata": {},
   "outputs": [
    {
     "data": {
      "text/plain": [
       "array([[0.5, 0. , 0. , 0. ],\n",
       "       [0. , 0. , 0. , 0. ],\n",
       "       [0. , 0. , 0.2, 0. ],\n",
       "       [0. , 0. , 0. , 0. ]])"
      ]
     },
     "execution_count": 94,
     "metadata": {},
     "output_type": "execute_result"
    }
   ],
   "source": [
    "covT = np.cov(T)\n",
    "covT"
   ]
  },
  {
   "cell_type": "code",
   "execution_count": 95,
   "metadata": {},
   "outputs": [],
   "source": [
    "for i in range(len(covT)):\n",
    "    for j in range(len(covT)):\n",
    "        if covT[i][i] == 0:\n",
    "            covT[i][i] = 1"
   ]
  },
  {
   "cell_type": "code",
   "execution_count": 96,
   "metadata": {},
   "outputs": [
    {
     "data": {
      "text/plain": [
       "7.840287944841769e-32"
      ]
     },
     "execution_count": 96,
     "metadata": {},
     "output_type": "execute_result"
    }
   ],
   "source": [
    "newx,newy,newz,newt = 1,10,8,4\n",
    "pi = 6.28**2   #2 = n/2  n=sınıf sayısı,probleme göre değiştir n=4\n",
    "s1 = ((linalg.det(covT))**0.5)*pi\n",
    "newM = np.array([[newx-meanTX],[newy-meanTY],[newz-meanTZ],[newt-meanTT]])\n",
    "tM = np.transpose(newM)\n",
    "v1= np.linalg.inv(covT)\n",
    "c1 = np.dot(tM,v1)\n",
    "c2 = np.dot(c1,newM)\n",
    "c3 = -0.5 * c2[0][0]\n",
    "s2 = np.exp(c3)\n",
    "sonucD =  (1/s1) * s2 \n",
    "sonucD"
   ]
  }
 ],
 "metadata": {
  "kernelspec": {
   "display_name": "Python 3",
   "language": "python",
   "name": "python3"
  },
  "language_info": {
   "codemirror_mode": {
    "name": "ipython",
    "version": 3
   },
   "file_extension": ".py",
   "mimetype": "text/x-python",
   "name": "python",
   "nbconvert_exporter": "python",
   "pygments_lexer": "ipython3",
   "version": "3.8.8"
  }
 },
 "nbformat": 4,
 "nbformat_minor": 4
}
