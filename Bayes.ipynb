{
 "cells": [
  {
   "cell_type": "markdown",
   "metadata": {},
   "source": [
    "## soru 1 "
   ]
  },
  {
   "cell_type": "code",
   "execution_count": 9,
   "metadata": {},
   "outputs": [],
   "source": [
    "pA=0.40 # A'nın oranı\n",
    "pB=0.35 # B'nin oranı\n",
    "pC=0.25 # C'nin oranı\n",
    "\n",
    "pAs=0.6 #A'nın sağlam olması\n",
    "pBs=0.8 #B'nin sağlam olması\n",
    "pCs=0.9 #C'nin sağlam olması"
   ]
  },
  {
   "cell_type": "markdown",
   "metadata": {},
   "source": [
    "## Sağlam olduğu bilinen"
   ]
  },
  {
   "cell_type": "code",
   "execution_count": 14,
   "metadata": {},
   "outputs": [
    {
     "data": {
      "text/plain": [
       "0.3221476510067114"
      ]
     },
     "execution_count": 14,
     "metadata": {},
     "output_type": "execute_result"
    }
   ],
   "source": [
    "#Sağlam olduğu bilinen,A olma olasılığı?\n",
    "#P(A|S)\n",
    "saglamA= (pA * pAs) / ((pA * pAs) + (pB * pBs) + (pC * pCs))\n",
    "saglamA"
   ]
  },
  {
   "cell_type": "code",
   "execution_count": 16,
   "metadata": {},
   "outputs": [
    {
     "data": {
      "text/plain": [
       "0.3758389261744966"
      ]
     },
     "execution_count": 16,
     "metadata": {},
     "output_type": "execute_result"
    }
   ],
   "source": [
    "#Sağlam olduğu bilinen,B olma olasılığı?\n",
    "#P(B|S)\n",
    "saglamB= (pB * pBs) / ((pA * pAs) + (pB * pBs) + (pC * pCs))\n",
    "saglamB"
   ]
  },
  {
   "cell_type": "code",
   "execution_count": 17,
   "metadata": {},
   "outputs": [
    {
     "data": {
      "text/plain": [
       "0.30201342281879195"
      ]
     },
     "execution_count": 17,
     "metadata": {},
     "output_type": "execute_result"
    }
   ],
   "source": [
    "#Sağlam olduğu bilinen,C olma olasılığı?\n",
    "#P(C|S)\n",
    "saglamC= (pC * pCs) / ((pA * pAs) + (pB * pBs) + (pC * pCs))\n",
    "saglamC"
   ]
  },
  {
   "cell_type": "markdown",
   "metadata": {},
   "source": [
    "## Test sonucu arızalı olduğu bilinen"
   ]
  },
  {
   "cell_type": "code",
   "execution_count": 20,
   "metadata": {},
   "outputs": [
    {
     "data": {
      "text/plain": [
       "0.627450980392157"
      ]
     },
     "execution_count": 20,
     "metadata": {},
     "output_type": "execute_result"
    }
   ],
   "source": [
    "#arızalı olduğu bilinen,A olma olasılığı?\n",
    "#P(A|S')\n",
    "arızalıA = (pA * (1 - pAs)) / ((pA * (1 - pAs)) + (pB * (1 - pBs)) + (pC * (1 - pCs)))\n",
    "arızalıA"
   ]
  },
  {
   "cell_type": "code",
   "execution_count": 21,
   "metadata": {},
   "outputs": [
    {
     "data": {
      "text/plain": [
       "0.27450980392156854"
      ]
     },
     "execution_count": 21,
     "metadata": {},
     "output_type": "execute_result"
    }
   ],
   "source": [
    "#arızalı olduğu bilinen,B olma olasılığı?\n",
    "#P(B|S')\n",
    "arızalıB = (pB * (1 - pBs)) / ((pA * (1 - pAs)) + (pB * (1 - pBs)) + (pC * (1 - pCs)))\n",
    "arızalıB"
   ]
  },
  {
   "cell_type": "code",
   "execution_count": 22,
   "metadata": {},
   "outputs": [
    {
     "data": {
      "text/plain": [
       "0.09803921568627448"
      ]
     },
     "execution_count": 22,
     "metadata": {},
     "output_type": "execute_result"
    }
   ],
   "source": [
    "\n",
    "#P(C|S')\n",
    "arızalıC = (pC * (1 - pCs)) / ((pA * (1 - pAs)) + (pB * (1 - pBs)) + (pC * (1 - pCs)))\n",
    "arızalıC"
   ]
  },
  {
   "cell_type": "markdown",
   "metadata": {},
   "source": [
    "## Test sonucu sağlam / Hata olasılığı"
   ]
  },
  {
   "cell_type": "code",
   "execution_count": 23,
   "metadata": {},
   "outputs": [
    {
     "data": {
      "text/plain": [
       "0.6778523489932886"
      ]
     },
     "execution_count": 23,
     "metadata": {},
     "output_type": "execute_result"
    }
   ],
   "source": [
    "#Test sonucu sağlam bir ürünün,A sınıfına ait kararı verilirse hata olasılığı\n",
    "#1 - P(A | s)\n",
    "hataA= 1 - saglamA\n",
    "hataA"
   ]
  },
  {
   "cell_type": "code",
   "execution_count": 24,
   "metadata": {},
   "outputs": [
    {
     "data": {
      "text/plain": [
       "0.6241610738255035"
      ]
     },
     "execution_count": 24,
     "metadata": {},
     "output_type": "execute_result"
    }
   ],
   "source": [
    "#Test sonucu sağlam bir ürünün,B sınıfına ait kararı verilirse hata olasılığı\n",
    "#1 - P(B | s)\n",
    "hataB= 1 - saglamB\n",
    "hataB"
   ]
  },
  {
   "cell_type": "code",
   "execution_count": 25,
   "metadata": {},
   "outputs": [
    {
     "data": {
      "text/plain": [
       "0.697986577181208"
      ]
     },
     "execution_count": 25,
     "metadata": {},
     "output_type": "execute_result"
    }
   ],
   "source": [
    "#Test sonucu sağlam bir ürünün,C sınıfına ait kararı verilirse hata olasılığı\n",
    "#1 - P(C | s)\n",
    "hataC= 1 - saglamC\n",
    "hataC"
   ]
  },
  {
   "cell_type": "markdown",
   "metadata": {},
   "source": [
    "## Test sonucu arızalı / Hata olasılığı"
   ]
  },
  {
   "cell_type": "code",
   "execution_count": 26,
   "metadata": {},
   "outputs": [
    {
     "data": {
      "text/plain": [
       "0.37254901960784303"
      ]
     },
     "execution_count": 26,
     "metadata": {},
     "output_type": "execute_result"
    }
   ],
   "source": [
    "#Test sonucu arızalı bir ürünün,A sınıfına ait kararı verilirse hata olasılığı\n",
    "#1 - P(A' | s)\n",
    "hataAs= 1 - arızalıA\n",
    "hataAs"
   ]
  },
  {
   "cell_type": "code",
   "execution_count": 27,
   "metadata": {},
   "outputs": [
    {
     "data": {
      "text/plain": [
       "0.7254901960784315"
      ]
     },
     "execution_count": 27,
     "metadata": {},
     "output_type": "execute_result"
    }
   ],
   "source": [
    "#Test sonucu arızalı bir ürünün,B sınıfına ait kararı verilirse hata olasılığı\n",
    "#1 - P(B' | s)\n",
    "hataBs= 1 - arızalıB\n",
    "hataBs"
   ]
  },
  {
   "cell_type": "code",
   "execution_count": 28,
   "metadata": {},
   "outputs": [
    {
     "data": {
      "text/plain": [
       "0.9019607843137255"
      ]
     },
     "execution_count": 28,
     "metadata": {},
     "output_type": "execute_result"
    }
   ],
   "source": [
    "#Test sonucu arızalı bir ürünün,C sınıfına ait kararı verilirse hata olasılığı\n",
    "#1 - P(C' | s)\n",
    "hataCs= 1 - arızalıC\n",
    "hataCs"
   ]
  }
 ],
 "metadata": {
  "kernelspec": {
   "display_name": "Python 3",
   "language": "python",
   "name": "python3"
  },
  "language_info": {
   "codemirror_mode": {
    "name": "ipython",
    "version": 3
   },
   "file_extension": ".py",
   "mimetype": "text/x-python",
   "name": "python",
   "nbconvert_exporter": "python",
   "pygments_lexer": "ipython3",
   "version": "3.8.8"
  }
 },
 "nbformat": 4,
 "nbformat_minor": 4
}
